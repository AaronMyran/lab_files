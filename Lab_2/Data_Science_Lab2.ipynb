{
 "cells": [
  {
   "cell_type": "markdown",
   "metadata": {},
   "source": [
    "# CS 109A/AC 209A/STAT 121A Data Science: Lab 2\n",
    "**Harvard University**<br>\n",
    "**Fall 2016**<br>\n",
    "**Instructors: W. Pan, P. Protopapas, K. Rader**<br>"
   ]
  },
  {
   "cell_type": "markdown",
   "metadata": {},
   "source": [
    "Import libraries"
   ]
  },
  {
   "cell_type": "code",
   "execution_count": 13,
   "metadata": {
    "collapsed": false
   },
   "outputs": [],
   "source": [
    "import numpy as np\n",
    "import pandas as pd\n",
    "import random\n",
    "import sklearn as sk\n",
    "from sklearn.neighbors import KNeighborsRegressor as KNN\n",
    "from sklearn.cross_validation import train_test_split as sk_split\n",
    "from sklearn.linear_model import LinearRegression as Lin_Reg\n",
    "import time\n",
    "import matplotlib\n",
    "import matplotlib.pyplot as plt\n",
    "%matplotlib inline"
   ]
  },
  {
   "cell_type": "markdown",
   "metadata": {},
   "source": [
    "---"
   ]
  },
  {
   "cell_type": "markdown",
   "metadata": {},
   "source": [
    "## Problem 2: Handling Missing Data\n",
    "\n",
    "In this problem, we will be handling the problem of datasets with missing values. Clearly, we cannot simply remove entire rows or columns that contain missing values. In this problem, we explore two different ways to fill in missing values.\n",
    "\n",
    "The datasets required for this problem is in the ``dataset`` directory. Each file in the ``dataset`` directory contains a one-dimensional data set, with the first column containing the independent variable X, and the second column containing the dependent variable Y.\n",
    "\n",
    "The files ``dataset_1_missing.txt`` to ``dataset_6_missing.txt`` contains rows that are missing their y-values, where as ``dataset_1_full.txt`` to ``dataset_6_full.txt`` contain datasets with all y-values correctly filled in.\n",
    " \n",
    "In this problem, you **may not** use ``sklearn`` or build-in ``pandas`` functions to **directly fill in missing values**. Usage of these libraries/pakcages for related tasks is fine."
   ]
  },
  {
   "cell_type": "markdown",
   "metadata": {},
   "source": [
    "### Part (a): Model Based Data Imputation\n",
    "\n",
    "- Describe in detail how predictive models for data (like KNN and simple linear regression) can be used to fill in missing values in a data set.\n",
    "\n",
    "\n",
    "- Implement your scheme. That is, write code (preferably a function ``fill`` or two functions ``fill_knn``, ``fill_lin_reg``), which takes an ``n x 2`` dataframe or array with values missing in the 2nd column and fills in these values using KNN and linear regression. \n",
    "\n",
    "\n",
    "- You need to, also, write code to evaluate the quality of the values you've filled in."
   ]
  },
  {
   "cell_type": "markdown",
   "metadata": {},
   "source": [
    "**Solution:**"
   ]
  },
  {
   "cell_type": "markdown",
   "metadata": {},
   "source": [
    "Function definitions:"
   ]
  },
  {
   "cell_type": "code",
   "execution_count": 14,
   "metadata": {
    "collapsed": true
   },
   "outputs": [],
   "source": [
    "#--------  fill_knn\n",
    "#input: missing_df (dataframe), full_df (dataframe), \n",
    "#       no_y_ind (indices of missing values in missing_df), \n",
    "#       with_y_ind (indices of non-missing values in missing_df), \n",
    "#       k (integer)\n",
    "#output: predicted_df (dataframe), r (float)\n",
    "\n",
    "def fill_knn(missing_df, full_df, no_y_ind, with_y_ind, k):\n",
    "    #preparing data in array form\n",
    "    x_train = missing_df.loc[with_y_ind, 'x'].values.reshape((len(with_y_ind), 1))\n",
    "    y_train = missing_df.loc[with_y_ind, 'y'].values\n",
    "    x_test = missing_df.loc[no_y_ind, 'x'].values.reshape((len(no_y_ind), 1))\n",
    "    y_test = full_df.loc[no_y_ind, 'y'].values\n",
    "    \n",
    "    #fit knn model\n",
    "    neighbours = KNN(n_neighbors=k)\n",
    "    neighbours.fit(x_train, y_train)\n",
    "    \n",
    "    #predict y-values\n",
    "    predicted_y = neighbours.predict(x_test)\n",
    "    \n",
    "    #score predictions\n",
    "    r = neighbours.score(x_test, y_test)\n",
    "    \n",
    "    #fill in missing y-values\n",
    "    predicted_df = missing_df.copy()\n",
    "    predicted_df.loc[no_y_ind, 'y'] = pd.Series(predicted_y, index=no_y_ind)\n",
    "    \n",
    "    return predicted_df, r\n",
    "\n",
    "\n",
    "#--------  fill_ling_reg\n",
    "#input: missing_df (dataframe), full_df (dataframe), \n",
    "#       no_y_ind (indices of missing values in missing_df), \n",
    "#       with_y_ind (indices of non-missing values in missing_df), \n",
    "#       k (integer)\n",
    "#output: predicted_df (dataframe), r (float)\n",
    "\n",
    "\n",
    "def fill_lin_reg(missing_df, full_df, no_y_ind, with_y_ind):\n",
    "    #preparing data in array form\n",
    "    x_train = missing_df.loc[with_y_ind, 'x'].values.reshape((len(with_y_ind), 1))\n",
    "    y_train = missing_df.loc[with_y_ind, 'y'].values\n",
    "    x_test = missing_df.loc[no_y_ind, 'x'].values.reshape((len(no_y_ind), 1))\n",
    "    y_test = full_df.loc[no_y_ind, 'y'].values\n",
    "    \n",
    "    #fit linear model\n",
    "    regression = Lin_Reg()\n",
    "    regression.fit(x_train, y_train)\n",
    "    \n",
    "    #predict y-values\n",
    "    predicted_y = regression.predict(x_test)\n",
    "    \n",
    "    #score predictions\n",
    "    r = regression.score(x_test, y_test)\n",
    "    \n",
    "    #fill in missing y-values\n",
    "    predicted_df = missing_df.copy()\n",
    "    predicted_df.loc[no_y_ind, 'y'] = pd.Series(predicted_y, index=no_y_ind)\n",
    "    \n",
    "    return predicted_df, r\n",
    "    "
   ]
  },
  {
   "cell_type": "markdown",
   "metadata": {},
   "source": [
    "### Part (b): Which Model is Better?\n",
    "\n",
    "- For datasets ``dataset_1_missing.txt`` to ``dataset_6_missing.txt``, compare the result of filling in the missing values using KNN and linear regression, using both the R^2 coefficient as well as data visualization (the correct y-values are contained in ``dataset_1_full.txt`` to ``dataset_6_full.txt``). \n",
    "\n",
    "\n",
    "- Use your analysis to form conjectures regarding the conditions under which KNN performs better than linear regression, under which linear regression performs better than KNN and under which both perform equally (well or poorly). Explain in detail exactly what might cause each model to fail or perform well. \n",
    "\n",
    "\n",
    "\n",
    "- Using ``dataset_1_missing.txt``, explain the impact of the choice of $k$ on the performance of KNN. \n",
    "\n",
    "\n",
    "Use numerical analysis and data visualization to support every part of your argument."
   ]
  },
  {
   "cell_type": "markdown",
   "metadata": {},
   "source": [
    "**Solution:**\n",
    "\n",
    "Evaluate predicted values using linear regression vs KNN.\n",
    "\n",
    "Function for plotting points with no missing y-values and points with our predicted y-values."
   ]
  },
  {
   "cell_type": "code",
   "execution_count": null,
   "metadata": {
    "collapsed": true
   },
   "outputs": [],
   "source": []
  },
  {
   "cell_type": "code",
   "execution_count": null,
   "metadata": {
    "collapsed": true
   },
   "outputs": [],
   "source": []
  },
  {
   "cell_type": "markdown",
   "metadata": {},
   "source": [
    "---"
   ]
  }
 ],
 "metadata": {
  "kernelspec": {
   "display_name": "Python 2",
   "language": "python",
   "name": "python2"
  },
  "language_info": {
   "codemirror_mode": {
    "name": "ipython",
    "version": 2
   },
   "file_extension": ".py",
   "mimetype": "text/x-python",
   "name": "python",
   "nbconvert_exporter": "python",
   "pygments_lexer": "ipython2",
   "version": "2.7.11"
  }
 },
 "nbformat": 4,
 "nbformat_minor": 0
}
